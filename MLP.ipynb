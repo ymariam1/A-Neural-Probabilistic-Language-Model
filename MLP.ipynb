{
 "cells": [
  {
   "cell_type": "code",
   "execution_count": 1,
   "metadata": {},
   "outputs": [
    {
     "data": {
      "text/plain": [
       "['emma', 'olivia', 'ava', 'isabella', 'sophia']"
      ]
     },
     "execution_count": 1,
     "metadata": {},
     "output_type": "execute_result"
    }
   ],
   "source": [
    "import torch\n",
    "import torch.nn.functional as F\n",
    "import matplotlib.pyplot as plt\n",
    "%matplotlib inline\n",
    "\n",
    "# Reading in words\n",
    "words = open('names.txt', mode='r').read().splitlines()\n",
    "words[:5]"
   ]
  },
  {
   "cell_type": "code",
   "execution_count": 2,
   "metadata": {},
   "outputs": [
    {
     "name": "stdout",
     "output_type": "stream",
     "text": [
      "{'a': 1, 'b': 2, 'c': 3, 'd': 4, 'e': 5, 'f': 6, 'g': 7, 'h': 8, 'i': 9, 'j': 10, 'k': 11, 'l': 12, 'm': 13, 'n': 14, 'o': 15, 'p': 16, 'q': 17, 'r': 18, 's': 19, 't': 20, 'u': 21, 'v': 22, 'w': 23, 'x': 24, 'y': 25, 'z': 26, '.': 0}\n"
     ]
    }
   ],
   "source": [
    "# Create mapping from letters to ints:\n",
    "chars = sorted(list(set(''.join(words)))) # Gets all chars that appear in data\n",
    "stoi = {s:i+1 for i,s in enumerate(chars)} # Maps each char to a number val\n",
    "stoi['.'] = 0 # Creates a special character to demarcate the start/end of a word\n",
    "itos = {i: s for i,s in stoi.items()} # Maps each number to a char\n",
    "print(itos)"
   ]
  },
  {
   "cell_type": "code",
   "execution_count": 3,
   "metadata": {},
   "outputs": [],
   "source": [
    "# Now to build the data set\n",
    "context_size = 3 # Characters taken to predict the next one\n",
    "X, Y = [], [] # X is characters given to the NN and Y is the Labels (Example: x = emm, y = a)\n",
    "for w in words:\n",
    "    context = [0] * context_size\n",
    "    for char in w + '.':\n",
    "        ix = stoi[char]\n",
    "        X.append(context)\n",
    "        Y.append(ix)\n",
    "        context = context[1:] + [ix]\n",
    "X = torch.tensor(X)\n",
    "Y = torch.tensor(Y)"
   ]
  },
  {
   "cell_type": "code",
   "execution_count": 4,
   "metadata": {},
   "outputs": [
    {
     "data": {
      "text/plain": [
       "(torch.Size([228146, 3]), torch.int64, torch.Size([228146]), torch.int64)"
      ]
     },
     "execution_count": 4,
     "metadata": {},
     "output_type": "execute_result"
    }
   ],
   "source": [
    "X.shape, X.dtype, Y.shape, Y.dtype"
   ]
  },
  {
   "cell_type": "code",
   "execution_count": 5,
   "metadata": {},
   "outputs": [],
   "source": [
    "# Embedding a lookup table of words for the 'first layer' of our neural network\n",
    "C = torch.randn(27,2)\n",
    "emb = C[X]"
   ]
  },
  {
   "cell_type": "code",
   "execution_count": 6,
   "metadata": {},
   "outputs": [],
   "source": [
    "W1 = torch.randn((6,100)) # Initializing inputs and weight to NN\n",
    "b1 = torch.randn(100) # Initializes biases as random numbers\n",
    "\n",
    "# Shape of embeddings is (len(words), 3, 2) so input will be 3*2 = 6\n",
    "# 100 Neurons was picked arbitrarily\n",
    "# Next we want to do multiply emb (len(words,3,2)) by W1 (6,100)\n",
    "# to do this we must concatenate the emb array into 2 dimensions"
   ]
  },
  {
   "cell_type": "code",
   "execution_count": 7,
   "metadata": {},
   "outputs": [],
   "source": [
    "W2 = torch.randn((100, 27))\n",
    "b2 = torch.randn(27)\n",
    "parameters = [C, W1, b1, W2, b2]"
   ]
  },
  {
   "cell_type": "code",
   "execution_count": 8,
   "metadata": {},
   "outputs": [],
   "source": [
    "for p in parameters:\n",
    "    p.requires_grad = True"
   ]
  },
  {
   "cell_type": "code",
   "execution_count": 9,
   "metadata": {},
   "outputs": [],
   "source": [
    "# Finding ideal lr\n",
    "lre = torch.linspace(-3, 0, 1000)\n",
    "lrs = 10**lre"
   ]
  },
  {
   "cell_type": "code",
   "execution_count": 10,
   "metadata": {},
   "outputs": [
    {
     "name": "stdout",
     "output_type": "stream",
     "text": [
      "3.3161873817443848\n"
     ]
    }
   ],
   "source": [
    "# counts = logits.exp()\n",
    "# prob = counts / counts.sum(1, keepdims = True)\n",
    "# loss = (-prob[torch.arange(prob.shape[0]), Y] - prob.max()).log().mean()\n",
    "\n",
    "for i in range(1000):\n",
    "    ix = torch.randint(0, X.shape[0], (32,)) # Creating minibatches\n",
    "\n",
    "    # Forward pass\n",
    "    emb = C[X[ix]]\n",
    "    h = emb.view(-1, 6) @ W1 + b1\n",
    "    logits = h @ W2 + b2\n",
    "    loss = F.cross_entropy(logits, Y[ix]) # Built in, more efficient imlpementation of the above comments (Negative log likelihood)\n",
    "    # Backwards pass\n",
    "    for p in parameters:\n",
    "        p.grad = None\n",
    "    loss.backward()\n",
    "    # update\n",
    "    lr = 10**-2\n",
    "    for p in parameters:\n",
    "        p.data += -lr * p.grad\n",
    "print(loss.item())"
   ]
  }
 ],
 "metadata": {
  "kernelspec": {
   "display_name": "base",
   "language": "python",
   "name": "python3"
  },
  "language_info": {
   "codemirror_mode": {
    "name": "ipython",
    "version": 3
   },
   "file_extension": ".py",
   "mimetype": "text/x-python",
   "name": "python",
   "nbconvert_exporter": "python",
   "pygments_lexer": "ipython3",
   "version": "3.11.3"
  },
  "orig_nbformat": 4
 },
 "nbformat": 4,
 "nbformat_minor": 2
}
